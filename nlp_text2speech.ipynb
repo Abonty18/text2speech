{
  "nbformat": 4,
  "nbformat_minor": 0,
  "metadata": {
    "colab": {
      "name": "nlp_text2speech.ipynb",
      "provenance": []
    },
    "kernelspec": {
      "name": "python3",
      "display_name": "Python 3"
    },
    "language_info": {
      "name": "python"
    }
  },
  "cells": [
    {
      "cell_type": "code",
      "execution_count": 39,
      "metadata": {
        "colab": {
          "base_uri": "https://localhost:8080/"
        },
        "id": "MRfKB5VE7PxE",
        "outputId": "14571d32-d4d2-4ed0-8047-125b1baee46a"
      },
      "outputs": [
        {
          "output_type": "stream",
          "name": "stderr",
          "text": [
            "[nltk_data] Downloading package words to /root/nltk_data...\n",
            "[nltk_data]   Unzipping corpora/words.zip.\n",
            "[nltk_data] Downloading package maxent_ne_chunker to\n",
            "[nltk_data]     /root/nltk_data...\n",
            "[nltk_data]   Package maxent_ne_chunker is already up-to-date!\n",
            "[nltk_data] Downloading package averaged_perceptron_tagger to\n",
            "[nltk_data]     /root/nltk_data...\n",
            "[nltk_data]   Package averaged_perceptron_tagger is already up-to-\n",
            "[nltk_data]       date!\n",
            "[nltk_data] Downloading package punkt to /root/nltk_data...\n",
            "[nltk_data]   Package punkt is already up-to-date!\n"
          ]
        },
        {
          "output_type": "execute_result",
          "data": {
            "text/plain": [
              "True"
            ]
          },
          "metadata": {},
          "execution_count": 39
        }
      ],
      "source": [
        "import nltk\n",
        "nltk.download('words')\n",
        "nltk.download('maxent_ne_chunker')\n",
        "nltk.download('averaged_perceptron_tagger')\n",
        "nltk.download('punkt')"
      ]
    },
    {
      "cell_type": "code",
      "source": [
        "import nltk.corpus"
      ],
      "metadata": {
        "id": "gNuq9hfN7nhV"
      },
      "execution_count": 4,
      "outputs": []
    },
    {
      "cell_type": "code",
      "source": [
        "#tokenization"
      ],
      "metadata": {
        "id": "mvBDNL217ndx"
      },
      "execution_count": 5,
      "outputs": []
    },
    {
      "cell_type": "code",
      "source": [
        "from nltk.tokenize import word_tokenize"
      ],
      "metadata": {
        "id": "U8_pdVaC7nak"
      },
      "execution_count": 6,
      "outputs": []
    },
    {
      "cell_type": "code",
      "source": [
        "chess=\"Samay raina is the best chess streamer in the world\""
      ],
      "metadata": {
        "id": "nwxkD2gQ7m1o"
      },
      "execution_count": 7,
      "outputs": []
    },
    {
      "cell_type": "code",
      "source": [
        "word_tokenize(chess)"
      ],
      "metadata": {
        "colab": {
          "base_uri": "https://localhost:8080/"
        },
        "id": "78cahFVfPPma",
        "outputId": "8ad72c4d-2d33-41a0-9825-720fa61d540b"
      },
      "execution_count": 8,
      "outputs": [
        {
          "output_type": "execute_result",
          "data": {
            "text/plain": [
              "['Samay',\n",
              " 'raina',\n",
              " 'is',\n",
              " 'the',\n",
              " 'best',\n",
              " 'chess',\n",
              " 'streamer',\n",
              " 'in',\n",
              " 'the',\n",
              " 'world']"
            ]
          },
          "metadata": {},
          "execution_count": 8
        }
      ]
    },
    {
      "cell_type": "code",
      "source": [
        "#sentence tokenizer\n",
        "from nltk.tokenize import sent_tokenize"
      ],
      "metadata": {
        "id": "WWCgCMAu7mu1"
      },
      "execution_count": 9,
      "outputs": []
    },
    {
      "cell_type": "code",
      "source": [
        "chess2=\"Samay raina is the best chess streamer in the world. Sagor shah is the best chess coach in the world\""
      ],
      "metadata": {
        "id": "U2qU7nxI-srU"
      },
      "execution_count": 10,
      "outputs": []
    },
    {
      "cell_type": "code",
      "source": [
        "sent_tokenize(chess2)"
      ],
      "metadata": {
        "colab": {
          "base_uri": "https://localhost:8080/"
        },
        "id": "sNiO52a3-sns",
        "outputId": "caf7e84b-47ed-4102-8984-d58461329386"
      },
      "execution_count": 11,
      "outputs": [
        {
          "output_type": "execute_result",
          "data": {
            "text/plain": [
              "['Samay raina is the best chess streamer in the world.',\n",
              " 'Sagor shah is the best chess coach in the world']"
            ]
          },
          "metadata": {},
          "execution_count": 11
        }
      ]
    },
    {
      "cell_type": "code",
      "source": [
        "#checking the number of tokens\n",
        "len(word_tokenize(chess))"
      ],
      "metadata": {
        "colab": {
          "base_uri": "https://localhost:8080/"
        },
        "id": "LcUxNkBO-slN",
        "outputId": "5abe5530-4d74-48a4-978d-e2a60d7eb417"
      },
      "execution_count": 12,
      "outputs": [
        {
          "output_type": "execute_result",
          "data": {
            "text/plain": [
              "10"
            ]
          },
          "metadata": {},
          "execution_count": 12
        }
      ]
    },
    {
      "cell_type": "code",
      "source": [
        "#bigrams and n-grams"
      ],
      "metadata": {
        "id": "BpaAPU41-siS"
      },
      "execution_count": 13,
      "outputs": []
    },
    {
      "cell_type": "code",
      "source": [
        "astronaut=\"Can anybody hear me or am I talking to myself? My mind is running empty in the sewarch for someone else\""
      ],
      "metadata": {
        "id": "fdiMzORG-sfw"
      },
      "execution_count": 14,
      "outputs": []
    },
    {
      "cell_type": "code",
      "source": [
        "astronaut_token=(word_tokenize(astronaut))"
      ],
      "metadata": {
        "id": "eV4gO6Ks-sdJ"
      },
      "execution_count": 15,
      "outputs": []
    },
    {
      "cell_type": "code",
      "source": [
        "list(nltk.bigrams(astronaut_token))"
      ],
      "metadata": {
        "colab": {
          "base_uri": "https://localhost:8080/"
        },
        "id": "Ug5I6n6uV2yD",
        "outputId": "e7dfeb4d-04da-4cac-b83f-a50b1b36b618"
      },
      "execution_count": 16,
      "outputs": [
        {
          "output_type": "execute_result",
          "data": {
            "text/plain": [
              "[('Can', 'anybody'),\n",
              " ('anybody', 'hear'),\n",
              " ('hear', 'me'),\n",
              " ('me', 'or'),\n",
              " ('or', 'am'),\n",
              " ('am', 'I'),\n",
              " ('I', 'talking'),\n",
              " ('talking', 'to'),\n",
              " ('to', 'myself'),\n",
              " ('myself', '?'),\n",
              " ('?', 'My'),\n",
              " ('My', 'mind'),\n",
              " ('mind', 'is'),\n",
              " ('is', 'running'),\n",
              " ('running', 'empty'),\n",
              " ('empty', 'in'),\n",
              " ('in', 'the'),\n",
              " ('the', 'sewarch'),\n",
              " ('sewarch', 'for'),\n",
              " ('for', 'someone'),\n",
              " ('someone', 'else')]"
            ]
          },
          "metadata": {},
          "execution_count": 16
        }
      ]
    },
    {
      "cell_type": "code",
      "source": [
        "list(nltk.trigrams(astronaut_token))"
      ],
      "metadata": {
        "colab": {
          "base_uri": "https://localhost:8080/"
        },
        "id": "uacwvuYPV2uq",
        "outputId": "b744701d-b870-41aa-ac3d-6f0958adb5ef"
      },
      "execution_count": 17,
      "outputs": [
        {
          "output_type": "execute_result",
          "data": {
            "text/plain": [
              "[('Can', 'anybody', 'hear'),\n",
              " ('anybody', 'hear', 'me'),\n",
              " ('hear', 'me', 'or'),\n",
              " ('me', 'or', 'am'),\n",
              " ('or', 'am', 'I'),\n",
              " ('am', 'I', 'talking'),\n",
              " ('I', 'talking', 'to'),\n",
              " ('talking', 'to', 'myself'),\n",
              " ('to', 'myself', '?'),\n",
              " ('myself', '?', 'My'),\n",
              " ('?', 'My', 'mind'),\n",
              " ('My', 'mind', 'is'),\n",
              " ('mind', 'is', 'running'),\n",
              " ('is', 'running', 'empty'),\n",
              " ('running', 'empty', 'in'),\n",
              " ('empty', 'in', 'the'),\n",
              " ('in', 'the', 'sewarch'),\n",
              " ('the', 'sewarch', 'for'),\n",
              " ('sewarch', 'for', 'someone'),\n",
              " ('for', 'someone', 'else')]"
            ]
          },
          "metadata": {},
          "execution_count": 17
        }
      ]
    },
    {
      "cell_type": "code",
      "source": [
        "list(nltk.ngrams(astronaut_token,5))"
      ],
      "metadata": {
        "colab": {
          "base_uri": "https://localhost:8080/"
        },
        "id": "Rj3yZBpZV2r9",
        "outputId": "63d57dc6-5525-41d7-d8d2-51b6a9eed5c0"
      },
      "execution_count": 18,
      "outputs": [
        {
          "output_type": "execute_result",
          "data": {
            "text/plain": [
              "[('Can', 'anybody', 'hear', 'me', 'or'),\n",
              " ('anybody', 'hear', 'me', 'or', 'am'),\n",
              " ('hear', 'me', 'or', 'am', 'I'),\n",
              " ('me', 'or', 'am', 'I', 'talking'),\n",
              " ('or', 'am', 'I', 'talking', 'to'),\n",
              " ('am', 'I', 'talking', 'to', 'myself'),\n",
              " ('I', 'talking', 'to', 'myself', '?'),\n",
              " ('talking', 'to', 'myself', '?', 'My'),\n",
              " ('to', 'myself', '?', 'My', 'mind'),\n",
              " ('myself', '?', 'My', 'mind', 'is'),\n",
              " ('?', 'My', 'mind', 'is', 'running'),\n",
              " ('My', 'mind', 'is', 'running', 'empty'),\n",
              " ('mind', 'is', 'running', 'empty', 'in'),\n",
              " ('is', 'running', 'empty', 'in', 'the'),\n",
              " ('running', 'empty', 'in', 'the', 'sewarch'),\n",
              " ('empty', 'in', 'the', 'sewarch', 'for'),\n",
              " ('in', 'the', 'sewarch', 'for', 'someone'),\n",
              " ('the', 'sewarch', 'for', 'someone', 'else')]"
            ]
          },
          "metadata": {},
          "execution_count": 18
        }
      ]
    },
    {
      "cell_type": "code",
      "source": [
        "#streaming"
      ],
      "metadata": {
        "id": "p6TEjbgUV2pL"
      },
      "execution_count": 19,
      "outputs": []
    },
    {
      "cell_type": "code",
      "source": [
        "from nltk.stem import PorterStemmer"
      ],
      "metadata": {
        "id": "E_FxuO-4V2mk"
      },
      "execution_count": 20,
      "outputs": []
    },
    {
      "cell_type": "code",
      "source": [
        "my_stem=PorterStemmer"
      ],
      "metadata": {
        "id": "neUu9L5UV2kB"
      },
      "execution_count": 21,
      "outputs": []
    },
    {
      "cell_type": "code",
      "source": [
        "my_stem=PorterStemmer()"
      ],
      "metadata": {
        "id": "gdxHAz2ZV2hj"
      },
      "execution_count": 22,
      "outputs": []
    },
    {
      "cell_type": "code",
      "source": [
        "my_stem.stem(\"eating\")"
      ],
      "metadata": {
        "id": "Dq6hzopDV2fD"
      },
      "execution_count": null,
      "outputs": []
    },
    {
      "cell_type": "code",
      "source": [
        "my_stem.stem(\"going\")"
      ],
      "metadata": {
        "id": "VPjGq6-NV2dI"
      },
      "execution_count": null,
      "outputs": []
    },
    {
      "cell_type": "code",
      "source": [
        "my_stem.stem(\"shopping\")"
      ],
      "metadata": {
        "id": "67Ycx9ItV2aR"
      },
      "execution_count": null,
      "outputs": []
    },
    {
      "cell_type": "code",
      "source": [
        "#pos-tagging"
      ],
      "metadata": {
        "id": "aDF98ukOok4v"
      },
      "execution_count": null,
      "outputs": []
    },
    {
      "cell_type": "code",
      "source": [
        "tom=\"Tom hank is the best actor in the world\""
      ],
      "metadata": {
        "id": "toQiD9U2ok1N"
      },
      "execution_count": 27,
      "outputs": []
    },
    {
      "cell_type": "code",
      "source": [
        "tom_token=word_tokenize(tom)"
      ],
      "metadata": {
        "id": "BN45VQjpokyZ"
      },
      "execution_count": 28,
      "outputs": []
    },
    {
      "cell_type": "code",
      "source": [
        "nltk.pos_tag(tom_token)"
      ],
      "metadata": {
        "id": "J8OOKrJbokv9"
      },
      "execution_count": null,
      "outputs": []
    },
    {
      "cell_type": "code",
      "source": [
        "from nltk import ne_chunk"
      ],
      "metadata": {
        "id": "hjniIFO7oktJ"
      },
      "execution_count": 32,
      "outputs": []
    },
    {
      "cell_type": "code",
      "source": [
        "president=\"Barak Obama was the 44th President of America\""
      ],
      "metadata": {
        "id": "M3DtySJfokqf"
      },
      "execution_count": 33,
      "outputs": []
    },
    {
      "cell_type": "code",
      "source": [
        "president_token=word_tokenize(president)"
      ],
      "metadata": {
        "id": "BITz2u06okn8"
      },
      "execution_count": 34,
      "outputs": []
    },
    {
      "cell_type": "code",
      "source": [
        "president_pos=nltk.pos_tag(president_token)"
      ],
      "metadata": {
        "id": "Uurr63RqoklN"
      },
      "execution_count": 35,
      "outputs": []
    },
    {
      "cell_type": "code",
      "source": [
        "print(ne_chunk(president_pos))"
      ],
      "metadata": {
        "id": "xuyC_bsItNbm"
      },
      "execution_count": null,
      "outputs": []
    },
    {
      "cell_type": "code",
      "source": [
        "president_token=word_tokenize(president)"
      ],
      "metadata": {
        "id": "g8x_5VsNtNYL"
      },
      "execution_count": 42,
      "outputs": []
    },
    {
      "cell_type": "code",
      "source": [
        "president_pos=nltk.pos_tag(president_token)"
      ],
      "metadata": {
        "id": "DU1BVbpjtNVa"
      },
      "execution_count": 43,
      "outputs": []
    },
    {
      "cell_type": "code",
      "source": [
        "print(ne_chunk(president_pos))"
      ],
      "metadata": {
        "colab": {
          "base_uri": "https://localhost:8080/"
        },
        "id": "GkTX1ZSftNS3",
        "outputId": "39fd6690-d706-426a-cd10-b7f84147805e"
      },
      "execution_count": 44,
      "outputs": [
        {
          "output_type": "stream",
          "name": "stdout",
          "text": [
            "(S\n",
            "  (PERSON Barak/NNP)\n",
            "  (PERSON Obama/NNP)\n",
            "  was/VBD\n",
            "  the/DT\n",
            "  44th/JJ\n",
            "  President/NNP\n",
            "  of/IN\n",
            "  (GPE America/NNP))\n"
          ]
        }
      ]
    },
    {
      "cell_type": "code",
      "source": [
        ""
      ],
      "metadata": {
        "id": "dIaoqVlltNQP"
      },
      "execution_count": null,
      "outputs": []
    },
    {
      "cell_type": "code",
      "source": [
        ""
      ],
      "metadata": {
        "id": "oNHAIzZmtNNh"
      },
      "execution_count": null,
      "outputs": []
    }
  ]
}